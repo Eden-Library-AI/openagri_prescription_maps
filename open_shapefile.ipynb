{
 "cells": [
  {
   "cell_type": "code",
   "execution_count": null,
   "id": "96066d83-2775-493e-8f97-f751ffb77e2d",
   "metadata": {},
   "outputs": [],
   "source": [
    "import geopandas as gpd\n",
    "\n",
    "# Path to your shapefile\n",
    "shapefile_path = '/home/pam/Downloads/RX/fields.shp'\n",
    "\n",
    "# Read the shapefile\n",
    "gdf = gpd.read_file(shapefile_path)\n",
    "\n",
    "# # Display the first few rows of the dataframe\n",
    "# print(gdf.head())\n",
    "\n",
    "# Get information about the GeoDataFrame\n",
    "print(gdf.info())\n",
    "\n",
    "# # Iterate through all elements and print their information\n",
    "# for index, row in gdf.iterrows():\n",
    "#     print(f\"Element {index}:\")\n",
    "#     print(row)\n",
    "#     print()\n",
    "\n",
    "# If you want specific information (e.g., geometry and attributes)\n",
    "for index, row in gdf.iterrows():\n",
    "    print(f\"Element {index}:\")\n",
    "    print(\"Geometry:\", row.geometry)\n",
    "    for column in gdf.columns:\n",
    "        if column != 'geometry':\n",
    "            print(f\"{column}: {row[column]}\")\n",
    "    print()\n"
   ]
  },
  {
   "cell_type": "code",
   "execution_count": null,
   "id": "3d00a4d3-44ed-49fb-8a9d-e04c0702b578",
   "metadata": {},
   "outputs": [],
   "source": [
    "shapefile_path = '/home/pam/Downloads/RX/fields.shp'\n",
    "\n",
    "# Read the shapefile\n",
    "gdf = gpd.read_file(shapefile_path)\n",
    "gdf"
   ]
  },
  {
   "cell_type": "code",
   "execution_count": null,
   "id": "a2ac5fd2-d3fd-4386-a4cd-9bf6fd31fa57",
   "metadata": {},
   "outputs": [],
   "source": [
    "import geopandas as gpd\n",
    "\n",
    "# Path to your shapefile\n",
    "shapefile_path = '/home/pam/Downloads/dunger_RX/RX/0071_Dunger_flussig_20240521.shp'\n",
    "\n",
    "# Read the shapefile\n",
    "gdf = gpd.read_file(shapefile_path)\n",
    "\n",
    "# # Display the first few rows of the dataframe\n",
    "# print(gdf.head())\n",
    "\n",
    "# Get information about the GeoDataFrame\n",
    "print(gdf.info())\n",
    "\n",
    "# # Iterate through all elements and print their information\n",
    "# for index, row in gdf.iterrows():\n",
    "#     print(f\"Element {index}:\")\n",
    "#     print(row)\n",
    "#     print()\n",
    "\n",
    "# If you want specific information (e.g., geometry and attributes)\n",
    "for index, row in gdf.iterrows():\n",
    "    print(f\"Element {index}:\")\n",
    "    print(\"Geometry:\", row.geometry)\n",
    "    for column in gdf.columns:\n",
    "        if column != 'geometry':\n",
    "            print(f\"{column}: {row[column]}\")\n",
    "    print()\n"
   ]
  }
 ],
 "metadata": {
  "kernelspec": {
   "display_name": "eden_geopandas",
   "language": "python",
   "name": "eden_geopandas"
  },
  "language_info": {
   "codemirror_mode": {
    "name": "ipython",
    "version": 3
   },
   "file_extension": ".py",
   "mimetype": "text/x-python",
   "name": "python",
   "nbconvert_exporter": "python",
   "pygments_lexer": "ipython3",
   "version": "3.11.5"
  }
 },
 "nbformat": 4,
 "nbformat_minor": 5
}
